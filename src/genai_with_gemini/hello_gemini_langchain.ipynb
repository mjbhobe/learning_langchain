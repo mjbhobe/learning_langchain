{
 "cells": [
  {
   "cell_type": "markdown",
   "metadata": {},
   "source": [
    "## Building with Google Gemini API\n",
    "This workbook has code that shows you how you can integrate with the Google Gemini API.\n",
    "\n",
    "Before proceeding setup your environment - for instructions see README.md file."
   ]
  },
  {
   "cell_type": "code",
   "execution_count": 1,
   "metadata": {},
   "outputs": [],
   "source": [
    "import os\n",
    "from dotenv import load_dotenv, find_dotenv\n",
    "\n",
    "# load the API keys from local .env file\n",
    "_ = load_dotenv(find_dotenv())  # read local .env file"
   ]
  },
  {
   "cell_type": "code",
   "execution_count": 2,
   "metadata": {},
   "outputs": [],
   "source": [
    "from langchain_google_genai import ChatGoogleGenerativeAI"
   ]
  },
  {
   "cell_type": "code",
   "execution_count": 3,
   "metadata": {},
   "outputs": [],
   "source": [
    "llm = ChatGoogleGenerativeAI(\n",
    "    model=\"gemini-pro\",\n",
    "    google_api_key=os.environ[\"GOOGLE_API_KEY\"],\n",
    "    temperature=0.6,\n",
    "    convert_system_message_to_human=True,\n",
    ")"
   ]
  },
  {
   "cell_type": "code",
   "execution_count": 4,
   "metadata": {},
   "outputs": [
    {
     "name": "stdout",
     "output_type": "stream",
     "text": [
      "Pluto was reclassified from a planet to a dwarf planet by the International Astronomical Union (IAU) in 2006.\n"
     ]
    }
   ],
   "source": [
    "# result = llm.invoke(\"Write a ballad about LangChain\")\n",
    "result = llm.invoke(\"Here is a fun fact about Pluto:\")\n",
    "print(result.content)"
   ]
  },
  {
   "cell_type": "code",
   "execution_count": 29,
   "metadata": {},
   "outputs": [],
   "source": [
    "# NOTE: Google Gemini does not support generate()\n",
    "# result = llm.generate(\n",
    "#     [\"Here is a fun fact about Pluto\", \"Here is a fun fact about the Sun\"]\n",
    "# )\n",
    "# print(result)"
   ]
  },
  {
   "cell_type": "markdown",
   "metadata": {},
   "source": [
    "Google Gemini does not support System Messages. To circumvent this, set the `convert_system_message_to_human` parameter of LLM constructor to `True`"
   ]
  },
  {
   "cell_type": "code",
   "execution_count": 5,
   "metadata": {},
   "outputs": [
    {
     "name": "stderr",
     "output_type": "stream",
     "text": [
      "/home/mjbhobe/code/git-projects/GenAiWithGemini/myenv/lib/python3.11/site-packages/langchain_core/_api/deprecation.py:117: LangChainDeprecationWarning: The function `__call__` was deprecated in LangChain 0.1.7 and will be removed in 0.2.0. Use invoke instead.\n",
      "  warn_deprecated(\n"
     ]
    },
    {
     "name": "stdout",
     "output_type": "stream",
     "text": [
      "No\n"
     ]
    }
   ],
   "source": [
    "from langchain_core.messages import HumanMessage, SystemMessage\n",
    "\n",
    "model = ChatGoogleGenerativeAI(\n",
    "    model=\"gemini-pro\",\n",
    "    convert_system_message_to_human=True,\n",
    "    temperature=0.6,\n",
    "    verbose=True,\n",
    ")\n",
    "response = model(\n",
    "    [\n",
    "        SystemMessage(content=\"Answer only yes or no.\"),\n",
    "        HumanMessage(content=\"Is Sydney the capital of Australia?\"),\n",
    "    ]\n",
    ")\n",
    "print(response.content)"
   ]
  },
  {
   "cell_type": "code",
   "execution_count": 6,
   "metadata": {},
   "outputs": [
    {
     "name": "stdout",
     "output_type": "stream",
     "text": [
      "There once was a model named LL,\n",
      "Whose language flowed smooth as a shell\n",
      "--------------------\n",
      ".\n",
      "With vast knowledge and grace,\n",
      "It could write with great pace,\n",
      "Creating tales that all could dwell.\n",
      "--------------------\n"
     ]
    }
   ],
   "source": [
    "# ChatGoogleGenerativeAI natively supports streaming and batching. Below is an example.\n",
    "for chunk in llm.stream(\"Write a limmerick about LLMs\"):\n",
    "    print(chunk.content)\n",
    "    print(\"-\" * 20)"
   ]
  },
  {
   "cell_type": "code",
   "execution_count": 7,
   "metadata": {},
   "outputs": [
    {
     "name": "stdout",
     "output_type": "stream",
     "text": [
      "√2/2\n"
     ]
    }
   ],
   "source": [
    "print(llm.invoke(\"What is sin(45)\").content)"
   ]
  },
  {
   "cell_type": "markdown",
   "metadata": {},
   "source": [
    "## Working with images\n",
    "Gemini is multi-modal, meaning that it supports text and images at the same time."
   ]
  },
  {
   "cell_type": "code",
   "execution_count": 8,
   "metadata": {},
   "outputs": [
    {
     "data": {
      "image/jpeg": "[encoded data removed]",
      "text/plain": [
       "<IPython.core.display.Image object>"
      ]
     },
     "execution_count": 8,
     "metadata": {},
     "output_type": "execute_result"
    }
   ],
   "source": [
    "import requests\n",
    "from IPython.display import Image\n",
    "\n",
    "image_url = \"https://picsum.photos/seed/picsum/300/300\"\n",
    "content = requests.get(image_url).content\n",
    "Image(content)"
   ]
  },
  {
   "cell_type": "code",
   "execution_count": 9,
   "metadata": {},
   "outputs": [
    {
     "name": "stdout",
     "output_type": "stream",
     "text": [
      " This is a picture of the Matterhorn, a mountain in the Alps. It is one of the most popular mountains in the world to climb, and it is also a popular destination for trekkers. The Matterhorn is a challenging climb, but it is also very rewarding. The views from the summit are breathtaking, and the experience of climbing the mountain is one that you will never forget.\n",
      "\n",
      "If you are a casual non trekker, you may be wondering if you are capable of climbing the Matterhorn. The answer is yes! The Matterhorn is a challenging climb, but it is not impossible. With the proper training and preparation, you can reach the summit of the Matterhorn.\n",
      "\n",
      "If you are an avid trekker, you are probably already familiar with the Matterhorn. You may be wondering if the Matterhorn is a challenge for you. The answer is yes! The Matterhorn is a challenging climb, even for experienced trekkers. However, if you are up for the challenge, the Matterhorn is an unforgettable experience.\n",
      "\n",
      "No matter what your level of experience, if you are looking for a challenging and rewarding climb, the Matterhorn is the perfect mountain for you. Contact us today to book your trip!\n"
     ]
    }
   ],
   "source": [
    "# now let's ask Gemini to describe the image\n",
    "from langchain_core.messages import HumanMessage, SystemMessage\n",
    "from langchain_google_genai import ChatGoogleGenerativeAI\n",
    "\n",
    "llm = ChatGoogleGenerativeAI(\n",
    "    # NOTE: to use images, change the model from gemini-pro to gemini-pro-vision\n",
    "    model=\"gemini-pro-vision\",\n",
    "    convert_system_message_to_human=True,\n",
    "    temperature=0.6,\n",
    "    verbose=True,\n",
    ")\n",
    "# example\n",
    "sys_message = SystemMessage(\n",
    "    content=\"\"\"You are creating marketing content for a tour operator that \n",
    "        arranges tours and trecks to exotic locations. Your message should appeal to \n",
    "        the casual non treckers as well as avid treckers. \n",
    "        Be as descriptive as possible and provide separate content for both categories\"\"\"\n",
    ")\n",
    "message = HumanMessage(\n",
    "    content=[\n",
    "        {\n",
    "            \"type\": \"text\",\n",
    "            \"text\": \"What's in this image?\",\n",
    "        },  # You can optionally provide text parts\n",
    "        {\"type\": \"image_url\", \"image_url\": image_url},\n",
    "    ]\n",
    ")\n",
    "response = llm.invoke([sys_message, message])\n",
    "print(response.content)"
   ]
  },
  {
   "cell_type": "code",
   "execution_count": 10,
   "metadata": {},
   "outputs": [],
   "source": [
    "from langchain.prompts import PromptTemplate\n",
    "from langchain.chains import LLMChain"
   ]
  },
  {
   "cell_type": "code",
   "execution_count": 11,
   "metadata": {},
   "outputs": [],
   "source": [
    "tweet_prompt = PromptTemplate.from_template(\n",
    "    \"\"\"You are a content creator. Write me a funny tweet about {topic}\"\"\"\n",
    ")"
   ]
  },
  {
   "cell_type": "code",
   "execution_count": 14,
   "metadata": {},
   "outputs": [],
   "source": [
    "tweet_chain = LLMChain(llm=model, prompt=tweet_prompt, verbose=True)"
   ]
  },
  {
   "cell_type": "code",
   "execution_count": 15,
   "metadata": {},
   "outputs": [
    {
     "name": "stdout",
     "output_type": "stream",
     "text": [
      "\n",
      "\n",
      "\u001b[1m> Entering new LLMChain chain...\u001b[0m\n",
      "Prompt after formatting:\n",
      "\u001b[32;1m\u001b[1;3mYou are a content creator. Write me a funny tweet about Generative AI\u001b[0m\n",
      "\n",
      "\u001b[1m> Finished chain.\u001b[0m\n",
      "I just asked Generative AI to write a joke, and it said, \"Why did the AI cross the road? To generate to the other side!\" 😂\n"
     ]
    }
   ],
   "source": [
    "topic = \"Generative AI\"\n",
    "resp = tweet_chain.run(topic=topic)\n",
    "print(resp)"
   ]
  },
  {
   "cell_type": "code",
   "execution_count": null,
   "metadata": {},
   "outputs": [],
   "source": []
  }
 ],
 "metadata": {
  "kernelspec": {
   "display_name": "Python 3",
   "language": "python",
   "name": "python3"
  },
  "language_info": {
   "codemirror_mode": {
    "name": "ipython",
    "version": 3
   },
   "file_extension": ".py",
   "mimetype": "text/x-python",
   "name": "python",
   "nbconvert_exporter": "python",
   "pygments_lexer": "ipython3",
   "version": "3.11.8"
  }
 },
 "nbformat": 4,
 "nbformat_minor": 2
}
